{
 "cells": [
  {
   "cell_type": "markdown",
   "id": "43da39bf",
   "metadata": {},
   "source": [
    "# This notebook demonstrates the admin-only features"
   ]
  },
  {
   "cell_type": "code",
   "execution_count": null,
   "id": "06c7a812",
   "metadata": {},
   "outputs": [],
   "source": [
    "from meganno_client import Service, Authentication\n",
    "import pprint\n",
    "import pandas as pd"
   ]
  },
  {
   "cell_type": "markdown",
   "id": "ccf96817",
   "metadata": {},
   "source": [
    "# Admin-only features"
   ]
  },
  {
   "cell_type": "code",
   "execution_count": null,
   "id": "36cee97e",
   "metadata": {},
   "outputs": [],
   "source": [
    "project_name = 'meganno'\n",
    "project_host = 'http://localhost' \n",
    "project_port = 5000 \n",
    "my_token=<owner_distributed_token>"
   ]
  },
  {
   "cell_type": "code",
   "execution_count": null,
   "id": "76158da6",
   "metadata": {},
   "outputs": [],
   "source": [
    "auth = Authentication(project=project_name,\n",
    "                      host=project_host,\n",
    "                      port=project_port,\n",
    "                      token=my_token)"
   ]
  },
  {
   "cell_type": "code",
   "execution_count": null,
   "id": "1df5831f",
   "metadata": {},
   "outputs": [],
   "source": [
    "demo = Service(project=project_name,\n",
    "               host=project_host,\n",
    "               port=project_port,\n",
    "               auth=auth)"
   ]
  },
  {
   "cell_type": "markdown",
   "id": "04f4e146",
   "metadata": {},
   "source": [
    "# Updating schema"
   ]
  },
  {
   "cell_type": "code",
   "execution_count": null,
   "id": "2bc1f589",
   "metadata": {},
   "outputs": [],
   "source": [
    "demo.get_schemas().set_schemas({\n",
    "    'label_schema': [\n",
    "        {\n",
    "            \"name\": \"sentiment\",\n",
    "            \"level\": \"record\", \n",
    "            \"options\": [\n",
    "                { \"value\": \"pos\", \"text\": \"positive\" },\n",
    "                { \"value\": \"neg\", \"text\": \"negative\" },\n",
    "                { \"value\": \"neu\", \"text\": \"neutral\" },\n",
    "                \n",
    "            ]\n",
    "        },\n",
    "        # adding a span-level label\n",
    "                {\n",
    "            \"name\": \"sp\",\n",
    "            \"level\": \"span\", \n",
    "            \"options\": [\n",
    "                { \"value\": \"pos\", \"text\": \"positive\" },\n",
    "                { \"value\": \"neg\", \"text\": \"negative\" },\n",
    "            ]\n",
    "        }\n",
    "    ]\n",
    "})\n",
    "demo.get_schemas().value(active=True)"
   ]
  },
  {
   "cell_type": "code",
   "execution_count": null,
   "id": "8556afe0",
   "metadata": {},
   "outputs": [],
   "source": [
    "# get schema history\n",
    "demo.get_schemas().get_history()"
   ]
  },
  {
   "cell_type": "code",
   "execution_count": null,
   "id": "e6518a15",
   "metadata": {},
   "outputs": [],
   "source": [
    "demo.get_schemas().value(active=False)"
   ]
  },
  {
   "cell_type": "markdown",
   "id": "a283c4e1",
   "metadata": {},
   "source": [
    "# Loading data"
   ]
  },
  {
   "cell_type": "code",
   "execution_count": null,
   "id": "fd887020",
   "metadata": {},
   "outputs": [],
   "source": [
    "# import from url\n",
    "# demo.import_data_url(url, column_mapping)\n",
    "\n",
    "df = pd.read_csv(\"tweets.csv\").loc[:300]\n",
    "demo.import_data_df(df, column_mapping={\n",
    "    'id':'id',\n",
    "    'content':'content',\n",
    "    \"metadata\":'pseudo_label' # optional metadata\n",
    "})\n",
    "# Note: In order to import a new dataset, we recommend to do so within a new project environment."
   ]
  },
  {
   "cell_type": "markdown",
   "id": "3671a3f7",
   "metadata": {},
   "source": [
    "# Utilizing metadata "
   ]
  },
  {
   "cell_type": "markdown",
   "id": "83baa9f4",
   "metadata": {},
   "source": [
    "## Example 1 : Customized Embedding"
   ]
  },
  {
   "cell_type": "code",
   "execution_count": null,
   "id": "0e9fda8c",
   "metadata": {},
   "outputs": [],
   "source": [
    "#!pip install sentence-transformers"
   ]
  },
  {
   "cell_type": "code",
   "execution_count": null,
   "id": "bb8402bb",
   "metadata": {},
   "outputs": [],
   "source": [
    "# Example 1, adding sentence-bert embedding.\n",
    "# metadata searches.\n",
    "\n",
    "from sentence_transformers import SentenceTransformer\n",
    "model = SentenceTransformer('all-MiniLM-L6-v2')\n",
    "# set metadata generation function \n",
    "demo.set_metadata(\"bert-embedding\",lambda x: list(model.encode(x).astype(float)), 500)"
   ]
  },
  {
   "cell_type": "code",
   "execution_count": null,
   "id": "8e6725b2",
   "metadata": {},
   "outputs": [],
   "source": [
    "s3 = demo.search(keyword='delay', limit=1)\n",
    "s3.show()"
   ]
  },
  {
   "cell_type": "code",
   "execution_count": null,
   "id": "98ee3649",
   "metadata": {},
   "outputs": [],
   "source": [
    "s3.value()"
   ]
  },
  {
   "cell_type": "code",
   "execution_count": null,
   "id": "bc4eceb2",
   "metadata": {},
   "outputs": [],
   "source": [
    "s4 = s3.suggest_similar(record_meta_name='bert-embedding'\n",
    "                          , limit=4)\n",
    "s4.show()"
   ]
  },
  {
   "cell_type": "markdown",
   "id": "fc4efc14",
   "metadata": {},
   "source": [
    "## Example 2 : Showing Hashtags As Context"
   ]
  },
  {
   "cell_type": "code",
   "execution_count": null,
   "id": "af61588f",
   "metadata": {},
   "outputs": [],
   "source": [
    "# user defined function\n",
    "def extract_hashtags(text):\n",
    "    hashtag_list = []\n",
    "    for word in text.split():\n",
    "        if word[0] == '#':\n",
    "            hashtag_list.append(word[:])\n",
    "    # widget can render markdown text\n",
    "    return ''.join(['- {}\\n'.format(x) for x in hashtag_list])\n",
    "\n",
    "# apply metadata to project\n",
    "demo.set_metadata(\"hashtag\",lambda x: extract_hashtags(x), 500)"
   ]
  },
  {
   "cell_type": "code",
   "execution_count": null,
   "id": "a8256a29",
   "metadata": {
    "scrolled": true
   },
   "outputs": [],
   "source": [
    "s1= demo.search(keyword='',\n",
    "              limit=50)\n",
    "s1.show({'view':'table',\n",
    "        'record_meta_names':['hashtag']})"
   ]
  },
  {
   "cell_type": "markdown",
   "id": "2645db5c",
   "metadata": {},
   "source": [
    "# Exploration"
   ]
  },
  {
   "cell_type": "code",
   "execution_count": null,
   "id": "f4a13c88",
   "metadata": {},
   "outputs": [],
   "source": [
    "s1 = demo.search(regex='.* (delay) .*', limit=50, skip=0)\n",
    "s1.show({'view':'table'})"
   ]
  },
  {
   "cell_type": "code",
   "execution_count": null,
   "id": "60bdd7ad",
   "metadata": {},
   "outputs": [],
   "source": [
    "s2 = demo.search(keyword='good', limit=50, skip=0)\n",
    "s2.show({'view':'table'})"
   ]
  },
  {
   "cell_type": "code",
   "execution_count": null,
   "id": "0051718b",
   "metadata": {},
   "outputs": [],
   "source": [
    "#subset computation:\n",
    "# intersection\n",
    "s_intersection = s1 & s2 # or s1.intersection(s2)\n",
    "# union\n",
    "s_union = s1 | s2 # or s1.union(s2)\n",
    "# difference\n",
    "s_diff = s1 - s2 # or s1.difference(s2)"
   ]
  },
  {
   "cell_type": "markdown",
   "id": "5cdeda76",
   "metadata": {},
   "source": [
    "# Analysis Dashboard"
   ]
  },
  {
   "cell_type": "code",
   "execution_count": null,
   "id": "bff7e9bb",
   "metadata": {},
   "outputs": [],
   "source": [
    "#Analysis \n",
    "demo.show()"
   ]
  },
  {
   "cell_type": "code",
   "execution_count": null,
   "id": "6e2bd5f2",
   "metadata": {},
   "outputs": [],
   "source": [
    "demo.export()"
   ]
  },
  {
   "cell_type": "markdown",
   "id": "675aa991",
   "metadata": {},
   "source": [
    "# Assignment"
   ]
  },
  {
   "cell_type": "code",
   "execution_count": null,
   "id": "52cc7fb7",
   "metadata": {},
   "outputs": [],
   "source": [
    "# assign subset to a user\n",
    "# they can retrieve by `<user_service>.get_assignment()`\n",
    "s_union.assign(<annotator_id>)"
   ]
  }
 ],
 "metadata": {
  "kernelspec": {
   "display_name": "Python 3 (ipykernel)",
   "language": "python",
   "name": "python3"
  },
  "language_info": {
   "codemirror_mode": {
    "name": "ipython",
    "version": 3
   },
   "file_extension": ".py",
   "mimetype": "text/x-python",
   "name": "python",
   "nbconvert_exporter": "python",
   "pygments_lexer": "ipython3",
   "version": "3.9.18"
  }
 },
 "nbformat": 4,
 "nbformat_minor": 5
}
