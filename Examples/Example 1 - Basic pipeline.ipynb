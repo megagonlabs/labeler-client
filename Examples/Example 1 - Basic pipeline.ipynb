{
 "cells": [
  {
   "cell_type": "code",
   "execution_count": null,
   "id": "b4e89d9b",
   "metadata": {},
   "outputs": [],
   "source": [
    "from meganno_client import Service, Authentication"
   ]
  },
  {
   "cell_type": "markdown",
   "id": "55d368d5",
   "metadata": {},
   "source": [
    "# 1. Authentication and Connection"
   ]
  },
  {
   "cell_type": "markdown",
   "id": "c45dd2c5",
   "metadata": {},
   "source": [
    "### Alternative 1\n",
    "Authenticate with remote Megagon-hosted playground services. See meganno.github.io for instructions to get tokens distributed by Megagon Labs."
   ]
  },
  {
   "cell_type": "code",
   "execution_count": null,
   "id": "144342e0",
   "metadata": {},
   "outputs": [],
   "source": [
    "auth = Authentication(project=\"blog_post\", \n",
    "                      token=<megagon_distributed_token>)"
   ]
  },
  {
   "cell_type": "code",
   "execution_count": null,
   "id": "137b90f1",
   "metadata": {},
   "outputs": [],
   "source": [
    "demo = Service(project=\"blog_post\", auth=auth)"
   ]
  },
  {
   "cell_type": "markdown",
   "id": "e92bde56",
   "metadata": {},
   "source": [
    "### Alternative 2\n",
    "Authenticate with self services, see the meganno-serivce readme for instructions to deploy self-hosted services and distribute tokens.\n",
    "If a token is not provided, the username-password login interface will show up in a different tab."
   ]
  },
  {
   "cell_type": "code",
   "execution_count": null,
   "id": "642edc21",
   "metadata": {},
   "outputs": [],
   "source": [
    "# replace with infomration shared by project owner.\n",
    "project_name = 'labeler'\n",
    "project_host = 'http://localhost' \n",
    "project_port = 15000 \n",
    "my_token = <onwer_distributed_token>"
   ]
  },
  {
   "cell_type": "code",
   "execution_count": null,
   "id": "67586878",
   "metadata": {},
   "outputs": [],
   "source": [
    "auth = Authentication(\n",
    "    project=project_name, host=project_host, port=project_port, token=my_token\n",
    ")"
   ]
  },
  {
   "cell_type": "code",
   "execution_count": null,
   "id": "aa40a2ec",
   "metadata": {},
   "outputs": [],
   "source": [
    "demo = Service(project=project_name, host=project_host, port=project_port, auth=auth)"
   ]
  },
  {
   "cell_type": "markdown",
   "id": "66a87df3",
   "metadata": {},
   "source": [
    "# Annotating"
   ]
  },
  {
   "cell_type": "code",
   "execution_count": null,
   "id": "9fc4862e",
   "metadata": {},
   "outputs": [],
   "source": [
    "# search results => subset s1\n",
    "s1 = demo.search(keyword=\"\", limit=10, skip=0)\n",
    "# bring up a widget\n",
    "s1.show({\"view\": \"table\"})"
   ]
  },
  {
   "cell_type": "code",
   "execution_count": null,
   "id": "00c89fc9",
   "metadata": {},
   "outputs": [],
   "source": [
    "s2 = demo.search(keyword=\"delay\", limit=50, skip=0)\n",
    "# bring up a widget\n",
    "s2.show()"
   ]
  },
  {
   "cell_type": "markdown",
   "id": "c6d081dd",
   "metadata": {},
   "source": [
    "## Work with Assignment\n",
    "Instead of searching, if the project owner have already make assignments, users can retrieve subsets assigned to them and start annotating with the same interface."
   ]
  },
  {
   "cell_type": "code",
   "execution_count": null,
   "id": "47874f6e",
   "metadata": {},
   "outputs": [],
   "source": [
    "# If latest_only is True, then only retrieve the last assignment for the user\n",
    "# Else, return the union of all subsets assigned to the user.\n",
    "demo.get_assignment(latest_only=False).show()"
   ]
  }
 ],
 "metadata": {
  "kernelspec": {
   "display_name": "Python 3 (ipykernel)",
   "language": "python",
   "name": "python3"
  },
  "language_info": {
   "codemirror_mode": {
    "name": "ipython",
    "version": 3
   },
   "file_extension": ".py",
   "mimetype": "text/x-python",
   "name": "python",
   "nbconvert_exporter": "python",
   "pygments_lexer": "ipython3",
   "version": "3.9.18"
  }
 },
 "nbformat": 4,
 "nbformat_minor": 5
}
